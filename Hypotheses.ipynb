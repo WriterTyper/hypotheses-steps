{
  "nbformat": 4,
  "nbformat_minor": 0,
  "metadata": {
    "colab": {
      "name": "Untitled4.ipynb",
      "provenance": [],
      "collapsed_sections": [],
      "authorship_tag": "ABX9TyOQXic+B89ybRILf81oSgEq",
      "include_colab_link": true
    },
    "kernelspec": {
      "name": "ir",
      "display_name": "R"
    },
    "language_info": {
      "name": "R"
    }
  },
  "cells": [
    {
      "cell_type": "markdown",
      "metadata": {
        "id": "view-in-github",
        "colab_type": "text"
      },
      "source": [
        "<a href=\"https://colab.research.google.com/github/WriterTyper/hypotheses-steps/blob/main/Hypotheses.ipynb\" target=\"_parent\"><img src=\"https://colab.research.google.com/assets/colab-badge.svg\" alt=\"Open In Colab\"/></a>"
      ]
    },
    {
      "cell_type": "code",
      "execution_count": null,
      "metadata": {
        "id": "3Z5j6amd8Vix"
      },
      "outputs": [],
      "source": [
        "library(tidyverse)"
      ]
    },
    {
      "cell_type": "code",
      "source": [
        "data <- read_csv(\"https://raw.githubusercontent.com/WriterTyper/hypotheses-steps/main/personality.csv\")"
      ],
      "metadata": {
        "id": "wWGi4t0N8c-U"
      },
      "execution_count": null,
      "outputs": []
    },
    {
      "cell_type": "code",
      "source": [
        "data"
      ],
      "metadata": {
        "id": "BX1cX4LZ818w"
      },
      "execution_count": null,
      "outputs": []
    },
    {
      "cell_type": "code",
      "source": [
        "data %>%\n",
        " count(Type)"
      ],
      "metadata": {
        "colab": {
          "base_uri": "https://localhost:8080/",
          "height": 178
        },
        "id": "kuuXZK1E84-B",
        "outputId": "f430f336-c011-4faf-d078-2d75033710f8"
      },
      "execution_count": 4,
      "outputs": [
        {
          "output_type": "display_data",
          "data": {
            "text/plain": [
              "  Type n \n",
              "1 A    20\n",
              "2 B    20"
            ],
            "text/latex": "A spec\\_tbl\\_df: 2 × 2\n\\begin{tabular}{ll}\n Type & n\\\\\n <chr> & <int>\\\\\n\\hline\n\t A & 20\\\\\n\t B & 20\\\\\n\\end{tabular}\n",
            "text/markdown": "\nA spec_tbl_df: 2 × 2\n\n| Type &lt;chr&gt; | n &lt;int&gt; |\n|---|---|\n| A | 20 |\n| B | 20 |\n\n",
            "text/html": [
              "<table class=\"dataframe\">\n",
              "<caption>A spec_tbl_df: 2 × 2</caption>\n",
              "<thead>\n",
              "\t<tr><th scope=col>Type</th><th scope=col>n</th></tr>\n",
              "\t<tr><th scope=col>&lt;chr&gt;</th><th scope=col>&lt;int&gt;</th></tr>\n",
              "</thead>\n",
              "<tbody>\n",
              "\t<tr><td>A</td><td>20</td></tr>\n",
              "\t<tr><td>B</td><td>20</td></tr>\n",
              "</tbody>\n",
              "</table>\n"
            ]
          },
          "metadata": {}
        }
      ]
    },
    {
      "cell_type": "code",
      "source": [
        "data %>%\n",
        "  summarize(mean_resp = mean(Serum_Cholesterol_Level, na.rm = TRUE))"
      ],
      "metadata": {
        "colab": {
          "base_uri": "https://localhost:8080/",
          "height": 147
        },
        "id": "4LQslId489yy",
        "outputId": "f7002db4-e117-4a09-bfe1-5aee2eec9696"
      },
      "execution_count": 5,
      "outputs": [
        {
          "output_type": "display_data",
          "data": {
            "text/plain": [
              "  mean_resp\n",
              "1 224.575  "
            ],
            "text/latex": "A tibble: 1 × 1\n\\begin{tabular}{l}\n mean\\_resp\\\\\n <dbl>\\\\\n\\hline\n\t 224.575\\\\\n\\end{tabular}\n",
            "text/markdown": "\nA tibble: 1 × 1\n\n| mean_resp &lt;dbl&gt; |\n|---|\n| 224.575 |\n\n",
            "text/html": [
              "<table class=\"dataframe\">\n",
              "<caption>A tibble: 1 × 1</caption>\n",
              "<thead>\n",
              "\t<tr><th scope=col>mean_resp</th></tr>\n",
              "\t<tr><th scope=col>&lt;dbl&gt;</th></tr>\n",
              "</thead>\n",
              "<tbody>\n",
              "\t<tr><td>224.575</td></tr>\n",
              "</tbody>\n",
              "</table>\n"
            ]
          },
          "metadata": {}
        }
      ]
    },
    {
      "cell_type": "code",
      "source": [
        "data %>% \n",
        "  group_by(Type) %>% \n",
        "  summarize(mean_resp = mean(Serum_Cholesterol_Level, na.rm = TRUE))"
      ],
      "metadata": {
        "colab": {
          "base_uri": "https://localhost:8080/",
          "height": 161
        },
        "id": "Dk9eQdDt9KDS",
        "outputId": "dbe1597f-715d-454b-d903-7ec5eef10657"
      },
      "execution_count": 6,
      "outputs": [
        {
          "output_type": "display_data",
          "data": {
            "text/plain": [
              "  Type mean_resp\n",
              "1 A    245.05   \n",
              "2 B    204.10   "
            ],
            "text/latex": "A tibble: 2 × 2\n\\begin{tabular}{ll}\n Type & mean\\_resp\\\\\n <chr> & <dbl>\\\\\n\\hline\n\t A & 245.05\\\\\n\t B & 204.10\\\\\n\\end{tabular}\n",
            "text/markdown": "\nA tibble: 2 × 2\n\n| Type &lt;chr&gt; | mean_resp &lt;dbl&gt; |\n|---|---|\n| A | 245.05 |\n| B | 204.10 |\n\n",
            "text/html": [
              "<table class=\"dataframe\">\n",
              "<caption>A tibble: 2 × 2</caption>\n",
              "<thead>\n",
              "\t<tr><th scope=col>Type</th><th scope=col>mean_resp</th></tr>\n",
              "\t<tr><th scope=col>&lt;chr&gt;</th><th scope=col>&lt;dbl&gt;</th></tr>\n",
              "</thead>\n",
              "<tbody>\n",
              "\t<tr><td>A</td><td>245.05</td></tr>\n",
              "\t<tr><td>B</td><td>204.10</td></tr>\n",
              "</tbody>\n",
              "</table>\n"
            ]
          },
          "metadata": {}
        }
      ]
    },
    {
      "cell_type": "code",
      "source": [
        "qplot(data$Type, data$Serum_Cholesterol_Level, fill = data$Type, geom = \"boxplot\") +theme_bw()"
      ],
      "metadata": {
        "colab": {
          "base_uri": "https://localhost:8080/",
          "height": 437
        },
        "id": "bvhbnPAb9Uje",
        "outputId": "5b26464e-8a3a-4590-e3c7-7e910a63a884"
      },
      "execution_count": 14,
      "outputs": [
        {
          "output_type": "display_data",
          "data": {
            "image/png": "[encoded data removed]",
            "text/plain": [
              "plot without title"
            ]
          },
          "metadata": {
            "image/png": {
              "width": 420,
              "height": 420
            }
          }
        }
      ]
    },
    {
      "cell_type": "code",
      "source": [
        ""
      ],
      "metadata": {
        "id": "GoClr3At94oU"
      },
      "execution_count": 10,
      "outputs": []
    }
  ]
}